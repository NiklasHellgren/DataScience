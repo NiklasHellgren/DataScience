{
 "cells": [
  {
   "cell_type": "markdown",
   "id": "2116bb7f-e364-4832-84e4-1c5ad6826952",
   "metadata": {},
   "source": [
    "## Data Science Tools and Ecosystem"
   ]
  },
  {
   "cell_type": "markdown",
   "id": "49911326-590d-4835-a05a-3fa9c2747c8c",
   "metadata": {},
   "source": [
    "In this notebook, Data Science Tools and Ecosystem are summarized."
   ]
  },
  {
   "cell_type": "markdown",
   "id": "65f4cbaa-6b99-454e-9f43-10a422fd088c",
   "metadata": {},
   "source": [
    "Some of the popular languages that data Scientists use are:\n",
    "1. Python\n",
    "2. R\n",
    "3. SQL\n",
    "4. Java"
   ]
  },
  {
   "cell_type": "markdown",
   "id": "41424786-c8b2-4115-ba14-9ed3105f602d",
   "metadata": {},
   "source": [
    "Some of the commonly used libraries used by Data Scientists include:\n",
    "1. Pandas\n",
    "2. NumPy\n",
    "3. SciPy"
   ]
  },
  {
   "cell_type": "markdown",
   "id": "6c7101e2-e099-412b-925d-23b085610a76",
   "metadata": {},
   "source": [
    "| Data Science Tools |\n",
    "| ---|\n",
    "| RStudio |\n",
    "| GitHub |\n",
    "| Jupyter Notebook|"
   ]
  },
  {
   "cell_type": "markdown",
   "id": "6a7ae6f1-f50e-44d8-8a28-2077c7e04b9a",
   "metadata": {},
   "source": [
    "### Below are a few examples of evaluating arithmetic expressions in Python"
   ]
  },
  {
   "cell_type": "code",
   "execution_count": 38,
   "id": "82c58850-f570-4b8e-bd4a-2b68bd657377",
   "metadata": {},
   "outputs": [
    {
     "data": {
      "text/plain": [
       "17"
      ]
     },
     "execution_count": 38,
     "metadata": {},
     "output_type": "execute_result"
    }
   ],
   "source": [
    "# This a simple arithmetic expression to mutiply then add integers\n",
    "(3*4)+5"
   ]
  },
  {
   "cell_type": "code",
   "execution_count": 40,
   "id": "b4c3d295-cf97-4012-9465-5a202959b45d",
   "metadata": {},
   "outputs": [
    {
     "data": {
      "text/plain": [
       "3.3333333333333335"
      ]
     },
     "execution_count": 40,
     "metadata": {},
     "output_type": "execute_result"
    }
   ],
   "source": [
    "#This will convert 200 minutes to hours by diving by 60\n",
    "200/60"
   ]
  },
  {
   "cell_type": "markdown",
   "id": "967b5f5e-95e4-40b9-9b0f-4d48a5fb9e71",
   "metadata": {},
   "source": [
    "## Author\n",
    "Niklas Hellgren"
   ]
  },
  {
   "cell_type": "code",
   "execution_count": null,
   "id": "72ea4ce5-886e-451e-9762-ee448982e11e",
   "metadata": {},
   "outputs": [],
   "source": []
  }
 ],
 "metadata": {
  "kernelspec": {
   "display_name": "Python 3 (ipykernel)",
   "language": "python",
   "name": "python3"
  },
  "language_info": {
   "codemirror_mode": {
    "name": "ipython",
    "version": 3
   },
   "file_extension": ".py",
   "mimetype": "text/x-python",
   "name": "python",
   "nbconvert_exporter": "python",
   "pygments_lexer": "ipython3",
   "version": "3.12.4"
  }
 },
 "nbformat": 4,
 "nbformat_minor": 5
}
